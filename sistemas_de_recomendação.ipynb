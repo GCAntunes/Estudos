{
 "cells": [
  {
   "cell_type": "markdown",
   "id": "e0b32a4e-016d-4000-b665-a97ef46dc025",
   "metadata": {},
   "source": [
    "## Sistemas de Recomendação\n",
    "\n",
    "Sistemas de Recomendação podem ser definidos, sucintamente, como o sistema responsável por selecionar itens personalizados com base nos interesses do usuário\n",
    "\n",
    "Neste projeto, será utilizado uma base de dados pequena em um primeiro momento, para se ter uma melhor compreensão e intuição acerca dos sistemas de recomendação. Em sequência vamos utilizar uma [base de dados do MovieLens](https://grouplens.org/datasets/movielens/100k/)"
   ]
  },
  {
   "cell_type": "code",
   "execution_count": 1,
   "id": "518402b0-55ce-4393-889f-ee594f841f22",
   "metadata": {},
   "outputs": [],
   "source": [
    "# Base de dados inicial\n",
    "\n",
    "avaliacoes = {'Ana': \n",
    "\t\t{'Freddy x Jason': 2.5, \n",
    "\t\t 'O Ultimato Bourne': 3.5,\n",
    "\t\t 'Star Trek': 3.0, \n",
    "\t\t 'Exterminador do Futuro': 3.5, \n",
    "\t\t 'Norbit': 2.5, \n",
    "\t\t 'Star Wars': 3.0},\n",
    "\t \n",
    "\t  'Marcos': \n",
    "\t\t{'Freddy x Jason': 3.0, \n",
    "\t\t 'O Ultimato Bourne': 3.5, \n",
    "\t\t 'Star Trek': 1.5, \n",
    "\t\t 'Exterminador do Futuro': 5.0, \n",
    "\t\t 'Star Wars': 3.0, \n",
    "\t\t 'Norbit': 3.5}, \n",
    "\n",
    "\t  'Pedro': \n",
    "\t    {'Freddy x Jason': 2.5, \n",
    "\t\t 'O Ultimato Bourne': 3.0,\n",
    "\t\t 'Exterminador do Futuro': 3.5, \n",
    "\t\t 'Star Wars': 4.0},\n",
    "\t\t\t \n",
    "\t  'Claudia': \n",
    "\t\t{'O Ultimato Bourne': 3.5, \n",
    "\t\t 'Star Trek': 3.0,\n",
    "\t\t 'Star Wars': 4.5, \n",
    "\t\t 'Exterminador do Futuro': 4.0, \n",
    "\t\t 'Norbit': 2.5},\n",
    "\t\t\t\t \n",
    "\t  'Adriano': \n",
    "\t\t{'Freddy x Jason': 3.0, \n",
    "\t\t 'O Ultimato Bourne': 4.0, \n",
    "\t\t 'Star Trek': 2.0, \n",
    "\t\t 'Exterminador do Futuro': 3.0, \n",
    "\t\t 'Star Wars': 3.0,\n",
    "\t\t 'Norbit': 2.0}, \n",
    "\n",
    "\t  'Janaina': \n",
    "\t     {'Freddy x Jason': 3.0, \n",
    "\t      'O Ultimato Bourne': 4.0,\n",
    "\t      'Star Wars': 3.0, \n",
    "\t      'Exterminador do Futuro': 5.0, \n",
    "\t      'Norbit': 3.5},\n",
    "\t\t\t  \n",
    "\t  'Leonardo': \n",
    "\t    {'O Ultimato Bourne':4.5,\n",
    "             'Norbit':1.0,\n",
    "\t     'Exterminador do Futuro':4.0}\n",
    "}\n"
   ]
  },
  {
   "cell_type": "markdown",
   "id": "0e34b643-82e0-43f7-9fa5-cd3f0c6b13e8",
   "metadata": {},
   "source": [
    "O banco de dados acima é um dicionário onde a chave é o usuário e o dicionário dentro da chave do usuário são os filmes com as respectivas notas\n",
    "\n",
    "Vamos utilizar a Filtragem Colaborativa. Sendo assim vamos calcular a similaridade dos usuários. Essa similaridade será nossa medida para podemos medir o quão semelhantes esses usuários são, de forma a usar essa informação para realizar indicações de filmes.\n",
    "\n",
    "Vamos utilizar a distância euclidiana como a base de nosso índice de similaridade. A distância euclidiana é definida por:\n",
    "\n",
    "$$\\sqrt {\\sum_{i=1}^{n} (p_{i} - q_{i})^2}$$ \n",
    "\n",
    "Iremos comparar os usuários entre si, de acordo com os filmes que assistiram, computando a distância euclidiana das notas dos filmes. Para termos uma nota de similaridade variando de 0 a 1, sendo que quanto maior a nota maior a similaridade utilizaremos a seguinte transformação:\n",
    "\n",
    "$$\\frac{1}{1+\\sqrt {\\sum_{i=1}^{n} (p_{i} - q_{i})^2}}$$"
   ]
  },
  {
   "cell_type": "code",
   "execution_count": 2,
   "id": "cccef2a2-988f-49ee-8782-0ed0f06b962c",
   "metadata": {},
   "outputs": [],
   "source": [
    "from math import sqrt\n",
    "\n",
    "def euclidiana(base, usuario1, usuario2):\n",
    "    si = {}\n",
    "    for item in base[usuario1]:\n",
    "        if item in base[usuario2]:\n",
    "            si[item] = 1 \n",
    "            \n",
    "    if len(si) == 0: \n",
    "        return 0\n",
    "    \n",
    "    soma = sum([pow(base[usuario1][item] - base[usuario2][item],2) for item in base[usuario1] if item in base[usuario2]])\n",
    "        \n",
    "    return 1/(1+sqrt(soma))        "
   ]
  },
  {
   "cell_type": "code",
   "execution_count": 3,
   "id": "44108f51-eb03-44de-bc49-d62b20444176",
   "metadata": {},
   "outputs": [],
   "source": [
    "def get_similares(base, usuario):\n",
    "    similaridade = [(euclidiana(base, usuario, outro),outro) for outro in base if outro != usuario]\n",
    "    similaridade.sort()\n",
    "    similaridade.reverse()\n",
    "    return similaridade[:30] "
   ]
  },
  {
   "cell_type": "code",
   "execution_count": 4,
   "id": "cd792d9b-25f9-475b-9d28-b7bd26ca1769",
   "metadata": {},
   "outputs": [
    {
     "data": {
      "text/plain": [
       "[(0.4721359549995794, 'Pedro'),\n",
       " (0.4142135623730951, 'Adriano'),\n",
       " (0.38742588672279304, 'Claudia'),\n",
       " (0.3483314773547883, 'Leonardo'),\n",
       " (0.3405424265831667, 'Janaina'),\n",
       " (0.29429805508554946, 'Marcos')]"
      ]
     },
     "execution_count": 4,
     "metadata": {},
     "output_type": "execute_result"
    }
   ],
   "source": [
    "get_similares(avaliacoes, 'Ana')"
   ]
  },
  {
   "cell_type": "code",
   "execution_count": 5,
   "id": "f7721eec-4ffa-4523-b98a-777cc4c5652a",
   "metadata": {},
   "outputs": [
    {
     "name": "stdout",
     "output_type": "stream",
     "text": [
      "Ana\n",
      "[(0.4721359549995794, 'Pedro'), (0.4142135623730951, 'Adriano'), (0.38742588672279304, 'Claudia'), (0.3483314773547883, 'Leonardo'), (0.3405424265831667, 'Janaina'), (0.29429805508554946, 'Marcos')]\n",
      "Marcos\n",
      "[(0.6666666666666666, 'Janaina'), (0.3405424265831667, 'Pedro'), (0.29429805508554946, 'Ana'), (0.28172904669025317, 'Claudia'), (0.27792629762666365, 'Adriano'), (0.25824569976124334, 'Leonardo')]\n",
      "Pedro\n",
      "[(0.5358983848622454, 'Claudia'), (0.4721359549995794, 'Ana'), (0.38742588672279304, 'Leonardo'), (0.38742588672279304, 'Adriano'), (0.3405424265831667, 'Marcos'), (0.32037724101704074, 'Janaina')]\n",
      "Claudia\n",
      "[(0.5358983848622454, 'Pedro'), (0.38742588672279304, 'Ana'), (0.3567891723253309, 'Leonardo'), (0.32037724101704074, 'Janaina'), (0.31451985913875646, 'Adriano'), (0.28172904669025317, 'Marcos')]\n",
      "Adriano\n",
      "[(0.4142135623730951, 'Ana'), (0.4, 'Leonardo'), (0.38742588672279304, 'Pedro'), (0.31451985913875646, 'Claudia'), (0.2857142857142857, 'Janaina'), (0.27792629762666365, 'Marcos')]\n",
      "Janaina\n",
      "[(0.6666666666666666, 'Marcos'), (0.3405424265831667, 'Ana'), (0.32037724101704074, 'Pedro'), (0.32037724101704074, 'Claudia'), (0.2857142857142857, 'Adriano'), (0.2674788903885893, 'Leonardo')]\n",
      "Leonardo\n",
      "[(0.4, 'Adriano'), (0.38742588672279304, 'Pedro'), (0.3567891723253309, 'Claudia'), (0.3483314773547883, 'Ana'), (0.2674788903885893, 'Janaina'), (0.25824569976124334, 'Marcos')]\n"
     ]
    }
   ],
   "source": [
    "for user in avaliacoes:\n",
    "    print(user)\n",
    "    print(get_similares(avaliacoes, user))"
   ]
  },
  {
   "cell_type": "markdown",
   "id": "274fa3ad-6422-4b69-8420-04d6eb91dda0",
   "metadata": {},
   "source": [
    "Como podemos ver acima, utilizando a base de testes podemos ver o score de similaridade relativo ao usuário.\n",
    "\n",
    "Com essa informação já podemos definir a recomendação por similaridade. Iremos usar a similaridade como um peso. \n",
    "Digamos que você queira recomendar filmes para o Leonardo.\n",
    "\n",
    "Nos utilizaremos todos os outros usuários que assistiram filmes que o Leonardo não assistiu. Iremos, para cada outro usuário, multiplicar o score de similaridade pela nota que este outro usuário deu ao filme, somar o resultado dessas multiplicações e dividir pela soma dos scores de similaridade. Podemos definir da seguinte forma:\n",
    "\n",
    "$$Nota filme = \\frac{\\sum_{i=1}^{n} similaridade_{i} * nota_{i}}{\\sum_{i=1}^{n} similaridade_{i}}$$\n",
    "\n"
   ]
  },
  {
   "cell_type": "code",
   "execution_count": 6,
   "id": "3f772106-7a8c-4516-8864-343c04653d56",
   "metadata": {},
   "outputs": [],
   "source": [
    "def get_recomendacoes(base, usuario):\n",
    "    totais = {}\n",
    "    soma_similaridade = {}\n",
    "    for outro in base:\n",
    "        if outro == usuario:\n",
    "            continue\n",
    "            \n",
    "        similaridade = euclidiana(base, usuario, outro)\n",
    "        \n",
    "        if similaridade <=0:\n",
    "            continue\n",
    "            \n",
    "        for item in base[outro]:\n",
    "            if item not in base[usuario]:\n",
    "                totais.setdefault(item, 0)\n",
    "                totais[item] += base[outro][item] * similaridade\n",
    "                soma_similaridade.setdefault(item, 0)\n",
    "                soma_similaridade[item] += similaridade\n",
    "                \n",
    "    rankings = [(round(total/soma_similaridade[item],1), item) for item, total in totais.items()]\n",
    "    rankings.sort()\n",
    "    rankings.reverse()\n",
    "    \n",
    "    return rankings[:30]   "
   ]
  },
  {
   "cell_type": "code",
   "execution_count": 7,
   "id": "c4adffa2-202b-4d9c-8e1e-7029dec826fc",
   "metadata": {},
   "outputs": [
    {
     "name": "stdout",
     "output_type": "stream",
     "text": [
      "Ana\n",
      "[]\n",
      "Marcos\n",
      "[]\n",
      "Pedro\n",
      "[(2.5, 'Star Trek'), (2.5, 'Norbit')]\n",
      "Claudia\n",
      "[(2.7, 'Freddy x Jason')]\n",
      "Adriano\n",
      "[]\n",
      "Janaina\n",
      "[(2.2, 'Star Trek')]\n",
      "Leonardo\n",
      "[(3.5, 'Star Wars'), (2.8, 'Freddy x Jason'), (2.4, 'Star Trek')]\n"
     ]
    }
   ],
   "source": [
    "for user in avaliacoes:    \n",
    "    print(user)\n",
    "    print(get_recomendacoes(avaliacoes, user))\n"
   ]
  },
  {
   "cell_type": "markdown",
   "id": "3de252d7-2b05-4540-87b6-0e4e5b217291",
   "metadata": {},
   "source": [
    "Acima, podemos ver qual a provável pontuação que o usuário daria para os filmes que ele não assistiu ainda. Por exemplo, Leonardo daria 3.5 para Star Wars, quando utilizado a filtragem colaborativa por usuários. Os resultados de Ana, Marcos e Adriano retornaram vazios já que assistiram todos os filmes da base de dados de teste. Na sequência vamos carregar a base de dados do MovieLens e testar nosso sistema de recomendação."
   ]
  },
  {
   "cell_type": "code",
   "execution_count": 8,
   "id": "473f4c00-93dc-4bf7-a83e-2fcfd2331a31",
   "metadata": {},
   "outputs": [],
   "source": [
    "def carrega_MovieLens():\n",
    "    filmes = {}\n",
    "    for linha in open('u.item'):\n",
    "        (id, titulo) = linha.split('|')[:2]\n",
    "        filmes[id] = titulo\n",
    "        \n",
    "    base = {}\n",
    "    for linha in open('u.data'):\n",
    "        (id_usuario, id_filme, nota_filme, tempo) = linha.split('\\t')\n",
    "        base.setdefault(id_usuario, {})\n",
    "        base[id_usuario][filmes[id_filme]] = float(nota_filme)\n",
    "        \n",
    "    return base    "
   ]
  },
  {
   "cell_type": "code",
   "execution_count": 9,
   "id": "c4eb743b-0376-4500-bbcc-fa7f90e100eb",
   "metadata": {},
   "outputs": [],
   "source": [
    "base = carrega_MovieLens()"
   ]
  },
  {
   "cell_type": "code",
   "execution_count": 10,
   "id": "84053615-4db3-4c6e-931a-715ec80f56df",
   "metadata": {},
   "outputs": [
    {
     "data": {
      "text/plain": [
       "[(1.0, '915'),\n",
       " (1.0, '866'),\n",
       " (1.0, '856'),\n",
       " (1.0, '850'),\n",
       " (1.0, '849'),\n",
       " (1.0, '837'),\n",
       " (1.0, '820'),\n",
       " (1.0, '818'),\n",
       " (1.0, '81'),\n",
       " (1.0, '809'),\n",
       " (1.0, '808'),\n",
       " (1.0, '801'),\n",
       " (1.0, '78'),\n",
       " (1.0, '770'),\n",
       " (1.0, '759'),\n",
       " (1.0, '75'),\n",
       " (1.0, '722'),\n",
       " (1.0, '71'),\n",
       " (1.0, '612'),\n",
       " (1.0, '61'),\n",
       " (1.0, '596'),\n",
       " (1.0, '584'),\n",
       " (1.0, '583'),\n",
       " (1.0, '580'),\n",
       " (1.0, '575'),\n",
       " (1.0, '572'),\n",
       " (1.0, '57'),\n",
       " (1.0, '547'),\n",
       " (1.0, '544'),\n",
       " (1.0, '53')]"
      ]
     },
     "execution_count": 10,
     "metadata": {},
     "output_type": "execute_result"
    }
   ],
   "source": [
    "get_similares(base, '212')"
   ]
  },
  {
   "cell_type": "markdown",
   "id": "771f8c71-c537-48de-9478-d23145d9f9fc",
   "metadata": {},
   "source": [
    "Interessante notar que em uma base de dados maior é possível achar outros usuários perfeitamente igual a outros"
   ]
  },
  {
   "cell_type": "code",
   "execution_count": 11,
   "id": "319046ce-d44c-470e-8919-2adb19533540",
   "metadata": {},
   "outputs": [
    {
     "data": {
      "text/plain": [
       "[(5.0, 'They Made Me a Criminal (1939)'),\n",
       " (5.0, 'Star Kid (1997)'),\n",
       " (5.0, \"Someone Else's America (1995)\"),\n",
       " (5.0, 'Santa with Muscles (1996)'),\n",
       " (5.0, 'Saint of Fort Washington, The (1993)'),\n",
       " (5.0, 'Prefontaine (1997)'),\n",
       " (5.0, 'Marlene Dietrich: Shadow and Light (1996) '),\n",
       " (5.0, 'Great Day in Harlem, A (1994)'),\n",
       " (5.0, 'Entertaining Angels: The Dorothy Day Story (1996)'),\n",
       " (5.0, 'Aiqing wansui (1994)'),\n",
       " (4.7, 'Pather Panchali (1955)'),\n",
       " (4.6, \"Some Mother's Son (1996)\"),\n",
       " (4.6, 'Anna (1996)'),\n",
       " (4.5, \"Schindler's List (1993)\"),\n",
       " (4.5, 'Letter From Death Row, A (1998)'),\n",
       " (4.5, 'Close Shave, A (1995)'),\n",
       " (4.5, 'Casablanca (1942)'),\n",
       " (4.4, 'Third Man, The (1949)'),\n",
       " (4.4, 'Rear Window (1954)'),\n",
       " (4.4, 'Faust (1994)'),\n",
       " (4.4, 'Everest (1998)'),\n",
       " (4.4, 'Bitter Sugar (Azucar Amargo) (1996)'),\n",
       " (4.3, 'World of Apu, The (Apur Sansar) (1959)'),\n",
       " (4.3, 'Vertigo (1958)'),\n",
       " (4.3, 'To Kill a Mockingbird (1962)'),\n",
       " (4.3, 'Stonewall (1995)'),\n",
       " (4.3, 'Some Folks Call It a Sling Blade (1993)'),\n",
       " (4.3, 'Secrets & Lies (1996)'),\n",
       " (4.3, 'Raise the Red Lantern (1991)'),\n",
       " (4.3, 'Paths of Glory (1957)')]"
      ]
     },
     "execution_count": 11,
     "metadata": {},
     "output_type": "execute_result"
    }
   ],
   "source": [
    "get_recomendacoes(base, '1')"
   ]
  },
  {
   "cell_type": "markdown",
   "id": "069ab5d3-d6bc-4c6d-b5d6-7bc36ec3a8e3",
   "metadata": {},
   "source": [
    "Na sequência iremos procurar a similaridade entre os filmes e não mais entre os usuários"
   ]
  },
  {
   "cell_type": "code",
   "execution_count": 12,
   "id": "9787c572-d1fa-4417-9aba-5a9adbedccdd",
   "metadata": {},
   "outputs": [],
   "source": [
    "def inversor(base):\n",
    "\n",
    "    filmes = {}\n",
    "    for user in base:\n",
    "        for film in base[user]:\n",
    "            if film not in filmes:\n",
    "                filmes[film] = {}\n",
    "\n",
    "    for film in filmes:\n",
    "        new_dict = {}\n",
    "        for user in base:\n",
    "            if film in base[user]:\n",
    "                new_dict[user] = base[user][film]                      \n",
    "            filmes[film] = new_dict\n",
    "    return filmes"
   ]
  },
  {
   "cell_type": "code",
   "execution_count": 13,
   "id": "fc54ebee-9b04-468c-aafe-28a9c4b3b04f",
   "metadata": {},
   "outputs": [
    {
     "data": {
      "text/plain": [
       "{'Freddy x Jason': {'Ana': 2.5,\n",
       "  'Marcos': 3.0,\n",
       "  'Pedro': 2.5,\n",
       "  'Adriano': 3.0,\n",
       "  'Janaina': 3.0},\n",
       " 'O Ultimato Bourne': {'Ana': 3.5,\n",
       "  'Marcos': 3.5,\n",
       "  'Pedro': 3.0,\n",
       "  'Claudia': 3.5,\n",
       "  'Adriano': 4.0,\n",
       "  'Janaina': 4.0,\n",
       "  'Leonardo': 4.5},\n",
       " 'Star Trek': {'Ana': 3.0, 'Marcos': 1.5, 'Claudia': 3.0, 'Adriano': 2.0},\n",
       " 'Exterminador do Futuro': {'Ana': 3.5,\n",
       "  'Marcos': 5.0,\n",
       "  'Pedro': 3.5,\n",
       "  'Claudia': 4.0,\n",
       "  'Adriano': 3.0,\n",
       "  'Janaina': 5.0,\n",
       "  'Leonardo': 4.0},\n",
       " 'Norbit': {'Ana': 2.5,\n",
       "  'Marcos': 3.5,\n",
       "  'Claudia': 2.5,\n",
       "  'Adriano': 2.0,\n",
       "  'Janaina': 3.5,\n",
       "  'Leonardo': 1.0},\n",
       " 'Star Wars': {'Ana': 3.0,\n",
       "  'Marcos': 3.0,\n",
       "  'Pedro': 4.0,\n",
       "  'Claudia': 4.5,\n",
       "  'Adriano': 3.0,\n",
       "  'Janaina': 3.0}}"
      ]
     },
     "execution_count": 13,
     "metadata": {},
     "output_type": "execute_result"
    }
   ],
   "source": [
    "filmes = inversor(avaliacoes)\n",
    "filmes"
   ]
  },
  {
   "cell_type": "code",
   "execution_count": 14,
   "id": "15e697b9-e59a-4bb0-976a-be1b72e5fd72",
   "metadata": {},
   "outputs": [
    {
     "data": {
      "text/plain": [
       "[(0.38742588672279304, 'Freddy x Jason'),\n",
       " (0.32037724101704074, 'O Ultimato Bourne'),\n",
       " (0.2989350844248255, 'Star Trek'),\n",
       " (0.29429805508554946, 'Norbit'),\n",
       " (0.252650308587072, 'Exterminador do Futuro')]"
      ]
     },
     "execution_count": 14,
     "metadata": {},
     "output_type": "execute_result"
    }
   ],
   "source": [
    "get_similares(filmes,'Star Wars')"
   ]
  },
  {
   "cell_type": "markdown",
   "id": "dfa0e96a-8c7a-42f3-a3b8-88091af4a78c",
   "metadata": {},
   "source": [
    "Utilizando a base de filmes como chaves primárias conseguimos encontrar quais filmes são similares entre si. Continua a mesma lógica do sistema por usuários. Para exemplificar, vamos pegar o Leonardo. Utilizando filtragem baseada em itens, qual nota ele daria para Freedy x Jason, sabendo que ele assistiu O Ultima Bourne, O Exterminador do Futuro e Norbit?\n",
    "\n",
    "Similarmente a filtragem por usuários, multiplicasse o score de similaridade entre os filmes, pela nota do filme assistido. Soma-se isso para todos os filmes assistidos e dividi-se pela soma das notas de similaridade.\n",
    "\n",
    "Para realizarmos esses cálculos vamos criar um dicionário com a lista de similaridade de filmes entre si"
   ]
  },
  {
   "cell_type": "code",
   "execution_count": 15,
   "id": "6f23521c-9fe1-49b1-afc8-e758163f25b4",
   "metadata": {},
   "outputs": [],
   "source": [
    "def calculo_itens_smilares(base_filmes):\n",
    "    result = {}\n",
    "    for item in base_filmes:\n",
    "        notas = get_similares(base_filmes, item)\n",
    "        result[item] = notas\n",
    "    return result"
   ]
  },
  {
   "cell_type": "code",
   "execution_count": 16,
   "id": "d387c329-d774-4593-a949-e4b1e1b04a22",
   "metadata": {},
   "outputs": [
    {
     "data": {
      "text/plain": [
       "{'Freddy x Jason': [(0.4494897427831781, 'Norbit'),\n",
       "  (0.38742588672279304, 'Star Wars'),\n",
       "  (0.3483314773547883, 'Star Trek'),\n",
       "  (0.3483314773547883, 'O Ultimato Bourne'),\n",
       "  (0.2402530733520421, 'Exterminador do Futuro')],\n",
       " 'O Ultimato Bourne': [(0.3483314773547883, 'Freddy x Jason'),\n",
       "  (0.32037724101704074, 'Star Wars'),\n",
       "  (0.3090169943749474, 'Exterminador do Futuro'),\n",
       "  (0.2553967929896867, 'Star Trek'),\n",
       "  (0.1886378647726465, 'Norbit')],\n",
       " 'Star Trek': [(0.3483314773547883, 'Freddy x Jason'),\n",
       "  (0.32037724101704074, 'Norbit'),\n",
       "  (0.2989350844248255, 'Star Wars'),\n",
       "  (0.2553967929896867, 'O Ultimato Bourne'),\n",
       "  (0.20799159651347807, 'Exterminador do Futuro')],\n",
       " 'Exterminador do Futuro': [(0.3090169943749474, 'O Ultimato Bourne'),\n",
       "  (0.252650308587072, 'Star Wars'),\n",
       "  (0.2402530733520421, 'Freddy x Jason'),\n",
       "  (0.20799159651347807, 'Star Trek'),\n",
       "  (0.1918253663634734, 'Norbit')],\n",
       " 'Norbit': [(0.4494897427831781, 'Freddy x Jason'),\n",
       "  (0.32037724101704074, 'Star Trek'),\n",
       "  (0.29429805508554946, 'Star Wars'),\n",
       "  (0.1918253663634734, 'Exterminador do Futuro'),\n",
       "  (0.1886378647726465, 'O Ultimato Bourne')],\n",
       " 'Star Wars': [(0.38742588672279304, 'Freddy x Jason'),\n",
       "  (0.32037724101704074, 'O Ultimato Bourne'),\n",
       "  (0.2989350844248255, 'Star Trek'),\n",
       "  (0.29429805508554946, 'Norbit'),\n",
       "  (0.252650308587072, 'Exterminador do Futuro')]}"
      ]
     },
     "execution_count": 16,
     "metadata": {},
     "output_type": "execute_result"
    }
   ],
   "source": [
    "itens_similares_teste = calculo_itens_smilares(filmes)\n",
    "itens_similares_teste"
   ]
  },
  {
   "cell_type": "markdown",
   "id": "3cdc079a-b5ca-455b-ba1f-f092381d1666",
   "metadata": {},
   "source": [
    "Agora, com esses dados já calculados podemos definir a função que retorna as indicações por usuário, utilizando a similaridade por filmes que ele já viu "
   ]
  },
  {
   "cell_type": "code",
   "execution_count": 17,
   "id": "95d88088-b460-4cc4-8d2c-b486ded3ae85",
   "metadata": {},
   "outputs": [],
   "source": [
    "def get_recomendacoes_itens(base_usuario, similaridade_itens, usuario):\n",
    "    notas_usuario = base_usuario[usuario]\n",
    "    notas = {}\n",
    "    total_similaridade = {}\n",
    "    for item, nota in notas_usuario.items():\n",
    "        for similaridade, item2 in similaridade_itens[item]:\n",
    "            if item2 in notas_usuario:\n",
    "                continue\n",
    "            notas.setdefault(item2, 0)\n",
    "            notas[item2] += similaridade*nota\n",
    "            total_similaridade.setdefault(item2, 0)\n",
    "            total_similaridade[item2] += similaridade\n",
    "    rankings = [(round(score/total_similaridade[item],1), item) for item, score in notas.items()]\n",
    "    rankings.sort()\n",
    "    rankings.reverse()\n",
    "    return rankings[:30]\n",
    "                "
   ]
  },
  {
   "cell_type": "code",
   "execution_count": 18,
   "id": "9b299b78-15c7-41a3-966b-799022cbbbdd",
   "metadata": {},
   "outputs": [
    {
     "data": {
      "text/plain": [
       "[(3.5, 'Star Wars'), (2.8, 'Freddy x Jason'), (2.4, 'Star Trek')]"
      ]
     },
     "execution_count": 18,
     "metadata": {},
     "output_type": "execute_result"
    }
   ],
   "source": [
    "get_recomendacoes(avaliacoes, 'Leonardo')"
   ]
  },
  {
   "cell_type": "code",
   "execution_count": 19,
   "id": "cc459ed3-59c7-4117-8743-37a6f3a66d1e",
   "metadata": {},
   "outputs": [
    {
     "data": {
      "text/plain": [
       "[(3.2, 'Star Wars'), (2.9, 'Star Trek'), (2.9, 'Freddy x Jason')]"
      ]
     },
     "execution_count": 19,
     "metadata": {},
     "output_type": "execute_result"
    }
   ],
   "source": [
    "get_recomendacoes_itens(avaliacoes, itens_similares_teste, 'Leonardo')"
   ]
  },
  {
   "cell_type": "markdown",
   "id": "1662aa28-5b63-4a0e-8734-a21953c5bfae",
   "metadata": {},
   "source": [
    "Na base de dados de teste podemos ver como isso afeta as notas dadas e as posições. Isso fica ainda mais perceptível na base da dados do MovieLens"
   ]
  },
  {
   "cell_type": "code",
   "execution_count": 20,
   "id": "cfcd8018-59ad-4722-8fd1-5ee68c216199",
   "metadata": {},
   "outputs": [],
   "source": [
    "base_filmes = inversor(base) "
   ]
  },
  {
   "cell_type": "code",
   "execution_count": 21,
   "id": "1efb42b1-b2ca-43e3-8100-60a7a813f7f8",
   "metadata": {},
   "outputs": [],
   "source": [
    "itens_similares_base = calculo_itens_smilares(base_filmes) "
   ]
  },
  {
   "cell_type": "code",
   "execution_count": 22,
   "id": "de5172d8-4880-4e61-8a67-d0ccfe1e9d64",
   "metadata": {},
   "outputs": [
    {
     "data": {
      "text/plain": [
       "[(5.0, 'They Made Me a Criminal (1939)'),\n",
       " (5.0, 'Star Kid (1997)'),\n",
       " (5.0, \"Someone Else's America (1995)\"),\n",
       " (5.0, 'Santa with Muscles (1996)'),\n",
       " (5.0, 'Saint of Fort Washington, The (1993)'),\n",
       " (5.0, 'Prefontaine (1997)'),\n",
       " (5.0, 'Marlene Dietrich: Shadow and Light (1996) '),\n",
       " (5.0, 'Great Day in Harlem, A (1994)'),\n",
       " (5.0, 'Entertaining Angels: The Dorothy Day Story (1996)'),\n",
       " (5.0, 'Aiqing wansui (1994)'),\n",
       " (4.7, 'Pather Panchali (1955)'),\n",
       " (4.7, 'Anna (1996)'),\n",
       " (4.6, \"Some Mother's Son (1996)\"),\n",
       " (4.6, 'Maya Lin: A Strong Clear Vision (1994)'),\n",
       " (4.6, 'Letter From Death Row, A (1998)'),\n",
       " (4.6, 'Innocents, The (1961)'),\n",
       " (4.6, 'Close Shave, A (1995)'),\n",
       " (4.5, 'Shawshank Redemption, The (1994)'),\n",
       " (4.5, \"Schindler's List (1993)\"),\n",
       " (4.5, 'Faust (1994)'),\n",
       " (4.5, 'Casablanca (1942)'),\n",
       " (4.5, 'Bitter Sugar (Azucar Amargo) (1996)'),\n",
       " (4.4, 'World of Apu, The (Apur Sansar) (1959)'),\n",
       " (4.4, 'Wallace & Gromit: The Best of Aardman Animation (1996)'),\n",
       " (4.4, 'Usual Suspects, The (1995)'),\n",
       " (4.4, 'Third Man, The (1949)'),\n",
       " (4.4, 'Rear Window (1954)'),\n",
       " (4.4, 'North by Northwest (1959)'),\n",
       " (4.4, 'Everest (1998)'),\n",
       " (4.4, 'Delta of Venus (1994)')]"
      ]
     },
     "execution_count": 22,
     "metadata": {},
     "output_type": "execute_result"
    }
   ],
   "source": [
    "get_recomendacoes(base, '2')"
   ]
  },
  {
   "cell_type": "code",
   "execution_count": 23,
   "id": "37b427a3-e616-4bd1-97f6-886c9bba636a",
   "metadata": {},
   "outputs": [
    {
     "data": {
      "text/plain": [
       "[(5.0, 'U.S. Marshalls (1998)'),\n",
       " (5.0, 'Thin Blue Line, The (1988)'),\n",
       " (5.0, 'Stuart Saves His Family (1995)'),\n",
       " (5.0, 'Santa Clause, The (1994)'),\n",
       " (5.0, 'Robocop 3 (1993)'),\n",
       " (5.0, 'Rhyme & Reason (1997)'),\n",
       " (5.0, 'Race the Sun (1996)'),\n",
       " (5.0, 'Quest, The (1996)'),\n",
       " (5.0, 'Prophecy II, The (1998)'),\n",
       " (5.0, 'Pollyanna (1960)'),\n",
       " (5.0, 'Night Flier (1997)'),\n",
       " (5.0, 'Mark of Zorro, The (1940)'),\n",
       " (5.0, 'Man of the House (1995)'),\n",
       " (5.0, 'Mamma Roma (1962)'),\n",
       " (5.0, 'Major Payne (1994)'),\n",
       " (5.0, \"Lover's Knot (1996)\"),\n",
       " (5.0, 'Last Klezmer: Leopold Kozlowski, His Life and Music, The (1995)'),\n",
       " (5.0, 'Lady of Burlesque (1943)'),\n",
       " (5.0, 'Judgment Night (1993)'),\n",
       " (5.0, 'Innocent Sleep, The (1995)'),\n",
       " (5.0, 'Incognito (1997)'),\n",
       " (5.0, \"I Don't Want to Talk About It (De eso no se habla) (1993)\"),\n",
       " (5.0, 'Glass Shield, The (1994)'),\n",
       " (5.0, 'Friday (1995)'),\n",
       " (5.0, 'Faust (1994)'),\n",
       " (5.0, 'Farewell to Arms, A (1932)'),\n",
       " (5.0, 'Far From Home: The Adventures of Yellow Dog (1995)'),\n",
       " (5.0, 'Faces (1968)'),\n",
       " (5.0, \"Enfer, L' (1994)\"),\n",
       " (5.0, 'Damsel in Distress, A (1937)')]"
      ]
     },
     "execution_count": 23,
     "metadata": {},
     "output_type": "execute_result"
    }
   ],
   "source": [
    "get_recomendacoes_itens(base, itens_similares_base, '2')"
   ]
  },
  {
   "cell_type": "markdown",
   "id": "56f0c254-1815-4b31-a6c9-2e9b02cb797e",
   "metadata": {},
   "source": [
    "Como pudemos ver, os filmes indicados mudaram completamente! Sendo assim, devemos saber os prós e contras na hora de optar por algum sistema de recomendação. Como computamos anteriormente a similaridade entre os itens precisamos realizar apenas uma busca dos dadas já calculados, diferentemente do que ocorre com a filtragem por usuários. Além disso é bom notar que se tiver um conjunto de dados esparsos, ou seja, onde pessoas deram notas para produtos diferentes, com baixa intersecção o sistema de recomendação por item se mostra mais eficiente."
   ]
  }
 ],
 "metadata": {
  "kernelspec": {
   "display_name": "Python 3",
   "language": "python",
   "name": "python3"
  },
  "language_info": {
   "codemirror_mode": {
    "name": "ipython",
    "version": 3
   },
   "file_extension": ".py",
   "mimetype": "text/x-python",
   "name": "python",
   "nbconvert_exporter": "python",
   "pygments_lexer": "ipython3",
   "version": "3.7.10"
  },
  "toc-showmarkdowntxt": false
 },
 "nbformat": 4,
 "nbformat_minor": 5
}
